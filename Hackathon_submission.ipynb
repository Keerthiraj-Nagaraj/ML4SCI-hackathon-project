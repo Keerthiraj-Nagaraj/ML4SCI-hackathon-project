{
 "cells": [
  {
   "cell_type": "code",
   "execution_count": 1,
   "metadata": {},
   "outputs": [],
   "source": [
    "##Imports\n",
    "\n",
    "import numpy as np\n",
    "import matplotlib.pyplot as plt\n",
    "import requests\n",
    "from sklearn.linear_model import LinearRegression,BayesianRidge\n",
    "from sklearn.svm import SVR\n",
    "from sklearn.feature_selection import SelectKBest\n",
    "from sklearn.feature_selection import f_regression"
   ]
  },
  {
   "cell_type": "code",
   "execution_count": 2,
   "metadata": {},
   "outputs": [
    {
     "name": "stdout",
     "output_type": "stream",
     "text": [
      "Done with numpy loads\n"
     ]
    }
   ],
   "source": [
    "##Loading training and testing data\n",
    "mat_file = \"mat_info.txt\"\n",
    "M_file_r = \"echos_r.txt\" # real part of echos\n",
    "M_file_i = \"echos_i.txt\" \n",
    "mat_info = np.loadtxt(mat_file, comments=\"#\", delimiter='\\t', unpack=False);\n",
    "# M(t) curve for each simulation:\n",
    "\n",
    "##Training input\n",
    "\n",
    "M_r = np.loadtxt(M_file_r, comments=\"#\", delimiter='\\t', unpack=False);\n",
    "M_i = np.loadtxt(M_file_i, comments=\"#\", delimiter='\\t', unpack=False);\n",
    "\n",
    "M = np.hstack((M_r, M_i)) \n",
    "##Testing Input\n",
    "s_r = np.loadtxt('submit_echos_r.txt',comments=\"#\", delimiter='\\t', unpack=False)\n",
    "s_i = np.loadtxt('submit_echos_i.txt',comments=\"#\", delimiter='\\t', unpack=False)\n",
    "S = np.hstack((s_r, s_i)) \n",
    "print(\"Done with numpy loads\")"
   ]
  },
  {
   "cell_type": "code",
   "execution_count": 3,
   "metadata": {},
   "outputs": [],
   "source": [
    "def submission(M,S,mat_info):\n",
    "    #create training set\n",
    "    predictions = np.zeros((S.shape[0], mat_info.shape[1]))\n",
    "    \n",
    "    for i in range(mat_info.shape[1]):\n",
    "        if i==0:\n",
    "            print('Processing variable 1 : Alpha')\n",
    "            var1model= LinearRegression(normalize=True)\n",
    "            feat_selection_var1 = SelectKBest(score_func=f_regression, k=300)\n",
    "            y_train = mat_info[:,i]\n",
    "            X_train = feat_selection_var1.fit_transform(M,y_train)\n",
    "            print('Training....')\n",
    "            var1model.fit(X_train,y_train)\n",
    "            X_test = feat_selection_var1.transform(S)\n",
    "            print('Testing....')\n",
    "            var1_predictions = var1model.predict(X_test)\n",
    "            predictions[:,i] = var1_predictions\n",
    "            print(var1_predictions.shape)\n",
    "        elif i==1:\n",
    "            print('Processing variable 2: xi')\n",
    "            var2model= BayesianRidge()\n",
    "            feat_selection_var2 = SelectKBest(score_func=f_regression, k=100)\n",
    "            y_train = mat_info[:,i]\n",
    "            X_train = feat_selection_var2.fit_transform(M,y_train)\n",
    "            print('Training....')\n",
    "            var2model.fit(X_train,y_train)\n",
    "            X_test = feat_selection_var2.transform(S)\n",
    "            print('Testing....')\n",
    "            var2_predictions = var2model.predict(X_test)\n",
    "            predictions[:,i] = var2_predictions\n",
    "            print(var2_predictions.shape)\n",
    "        elif i==2:\n",
    "            print('Processing variable 3: p')\n",
    "            var3model = SVR(C=10.0, epsilon=0.0001,gamma='scale',kernel='poly')\n",
    "            X_train = M\n",
    "            y_train = mat_info[:,i]\n",
    "            print('Training....')\n",
    "            var3model.fit(X_train,y_train)\n",
    "            X_test = S\n",
    "            print('Testing....')\n",
    "            var3_predictions = var3model.predict(X_test)\n",
    "            predictions[:,i] = var3_predictions\n",
    "            print(var3_predictions.shape)\n",
    "        else:\n",
    "            print('Processing variable 4: d')\n",
    "            var4model= BayesianRidge()\n",
    "            feat_selection_var4 = SelectKBest(score_func=f_regression, k=100)\n",
    "            y_train = mat_info[:,i]\n",
    "            X_train = feat_selection_var4.fit_transform(M,y_train)\n",
    "            var4model.fit(X_train,y_train)\n",
    "            print('Training....')\n",
    "            X_test = feat_selection_var4.transform(S)\n",
    "            print('Testing....')\n",
    "            var4_predictions = var4model.predict(X_test)\n",
    "            predictions[:,i] = var4_predictions\n",
    "            print(var4_predictions.shape)\n",
    "            print('Done....')\n",
    "    return predictions"
   ]
  },
  {
   "cell_type": "code",
   "execution_count": 4,
   "metadata": {},
   "outputs": [
    {
     "name": "stdout",
     "output_type": "stream",
     "text": [
      "Processing variable 1 : Alpha\n",
      "Training....\n",
      "Testing....\n",
      "(500,)\n",
      "Processing variable 2: xi\n",
      "Training....\n",
      "Testing....\n",
      "(500,)\n",
      "Processing variable 3: p\n",
      "Training....\n",
      "Testing....\n",
      "(500,)\n",
      "Processing variable 4: d\n",
      "Training....\n",
      "Testing....\n",
      "(500,)\n",
      "Done....\n"
     ]
    }
   ],
   "source": [
    "predictions = submission(M,S,mat_info) ##list of arrays. where each array contains the predictions of one variable"
   ]
  },
  {
   "cell_type": "code",
   "execution_count": 9,
   "metadata": {},
   "outputs": [],
   "source": [
    "np.savetxt('submitted_mat_info.txt', predictions, delimiter = '\\t')"
   ]
  },
  {
   "cell_type": "code",
   "execution_count": 10,
   "metadata": {},
   "outputs": [
    {
     "name": "stdout",
     "output_type": "stream",
     "text": [
      "Challenge completed\n",
      "Team Gators4SCI\n"
     ]
    }
   ],
   "source": [
    "print('Challenge completed')\n",
    "print('Team Gators4SCI')"
   ]
  }
 ],
 "metadata": {
  "kernelspec": {
   "display_name": "Python 3",
   "language": "python",
   "name": "python3"
  },
  "language_info": {
   "codemirror_mode": {
    "name": "ipython",
    "version": 3
   },
   "file_extension": ".py",
   "mimetype": "text/x-python",
   "name": "python",
   "nbconvert_exporter": "python",
   "pygments_lexer": "ipython3",
   "version": "3.7.6"
  }
 },
 "nbformat": 4,
 "nbformat_minor": 4
}
